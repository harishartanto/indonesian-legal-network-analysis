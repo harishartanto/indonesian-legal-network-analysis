{
 "cells": [
  {
   "cell_type": "code",
   "execution_count": 17,
   "metadata": {
    "ExecuteTime": {
     "end_time": "2024-05-06T08:57:46.076013Z",
     "start_time": "2024-05-06T08:57:44.770549Z"
    }
   },
   "outputs": [],
   "source": [
    "import pandas as pd\n",
    "import json"
   ]
  },
  {
   "cell_type": "code",
   "execution_count": 18,
   "metadata": {
    "ExecuteTime": {
     "end_time": "2024-05-06T08:57:46.089254Z",
     "start_time": "2024-05-06T08:57:46.076013Z"
    }
   },
   "outputs": [],
   "source": [
    "#data_file = \"../data/input/bills_subset.jsonl\"\n",
    "data_sample = \"../../data/law_analyzer_msib2_keywords_cleaned_filtered.json\"\n",
    "\n",
    "## Generation I/O\n",
    "generation_prompt = \"../../data/prompt/generation_1.txt\"\n",
    "seed_1 = \"../../data/prompt/seed_1.md\"\n",
    "generation_out = \"../../data/output/generation_1.jsonl\"\n",
    "generation_topic = \"../../data/output/generation_1.md\"\n",
    "\n",
    "# Refinement I/O\n",
    "refinement_prompt = \"../../data/prompt/refinement.txt\"\n",
    "refinement_out = \"../../data/output/refinement.jsonl\"\n",
    "refinement_topic = \"../../data/output/refinement.md\"\n",
    "refinement_mapping = \"../../data/output/refinement_mapping.txt\"\n",
    "refinement_updated = \"../../data/output/refinement_updated.jsonl\"\n",
    "\n",
    "# Generation 2 I/O\n",
    "generation_2_prompt = \"../../data/prompt/generation_2.txt\"\n",
    "generation_2_out = \"../../data/output/generation_2.jsonl\"\n",
    "generation_2_topic = \"../../data/output/generation_2.md\"\n"
   ]
  },
  {
   "cell_type": "code",
   "execution_count": 19,
   "metadata": {
    "ExecuteTime": {
     "end_time": "2024-05-06T08:57:46.132122Z",
     "start_time": "2024-05-06T08:57:46.091338Z"
    }
   },
   "outputs": [],
   "source": [
    "docs_df = pd.read_csv(\"../../data/law_analyzer_msib2_keywords_cleaned_filtered.csv\")"
   ]
  },
  {
   "cell_type": "code",
   "execution_count": 20,
   "metadata": {},
   "outputs": [
    {
     "data": {
      "text/plain": [
       "38"
      ]
     },
     "execution_count": 20,
     "metadata": {},
     "output_type": "execute_result"
    }
   ],
   "source": [
    "len(docs_df)"
   ]
  },
  {
   "cell_type": "code",
   "execution_count": 21,
   "metadata": {
    "ExecuteTime": {
     "end_time": "2024-05-06T08:57:46.145569Z",
     "start_time": "2024-05-06T08:57:46.132122Z"
    }
   },
   "outputs": [],
   "source": [
    "# eval keywords field\n",
    "docs_df['keywords'] = docs_df['keywords'].apply(eval)"
   ]
  },
  {
   "cell_type": "code",
   "execution_count": 22,
   "metadata": {
    "ExecuteTime": {
     "end_time": "2024-05-06T08:57:46.157833Z",
     "start_time": "2024-05-06T08:57:46.145569Z"
    }
   },
   "outputs": [],
   "source": [
    "# transform list of keywords from list of string to string delimited by ';'\n",
    "docs_df['keywords'] = docs_df['keywords'].apply(lambda x: '; '.join(x))"
   ]
  },
  {
   "cell_type": "code",
   "execution_count": 23,
   "metadata": {
    "ExecuteTime": {
     "end_time": "2024-05-06T08:57:46.165511Z",
     "start_time": "2024-05-06T08:57:46.157833Z"
    }
   },
   "outputs": [],
   "source": [
    "#docs_df = docs_df[:3]\n",
    "#docs_df = docs_df[-4:]"
   ]
  },
  {
   "cell_type": "code",
   "execution_count": 24,
   "metadata": {
    "ExecuteTime": {
     "end_time": "2024-05-06T08:57:46.176268Z",
     "start_time": "2024-05-06T08:57:46.165511Z"
    }
   },
   "outputs": [],
   "source": [
    "# transform docs dataframe into json\n",
    "docs_json = docs_df.to_json(orient='records')\n",
    "docs_json = json.dumps(json.loads(docs_json), ensure_ascii=False)"
   ]
  },
  {
   "cell_type": "code",
   "execution_count": 25,
   "metadata": {
    "ExecuteTime": {
     "end_time": "2024-05-06T08:57:46.187132Z",
     "start_time": "2024-05-06T08:57:46.176268Z"
    }
   },
   "outputs": [],
   "source": [
    "# Mengonversi string JSON menjadi list objek Python\n",
    "docs_json_fixed = json.loads(docs_json)\n",
    "\n",
    "# Mengonversi setiap objek dalam list menjadi string JSON\n",
    "docs_json_fixed_obj = [json.dumps(obj) for obj in docs_json_fixed]\n",
    "\n",
    "# write docs_filt_json_fixed_obj into .JSON file\n",
    "with open('../../data/law_analyzer_msib2_keywords_cleaned_filtered.json', 'w') as f:\n",
    "    for obj in docs_json_fixed_obj:\n",
    "        f.write(obj + '\\n')"
   ]
  },
  {
   "cell_type": "code",
   "execution_count": 10,
   "metadata": {
    "ExecuteTime": {
     "end_time": "2024-05-06T08:57:46.225573Z",
     "start_time": "2024-05-06T08:57:46.187132Z"
    }
   },
   "outputs": [
    {
     "data": {
      "text/plain": [
       "38"
      ]
     },
     "execution_count": 10,
     "metadata": {},
     "output_type": "execute_result"
    }
   ],
   "source": [
    "len(docs_df)"
   ]
  },
  {
   "cell_type": "code",
   "execution_count": 10,
   "metadata": {
    "ExecuteTime": {
     "end_time": "2024-05-06T09:02:29.779239Z",
     "start_time": "2024-05-06T08:57:48.271640Z"
    }
   },
   "outputs": [
    {
     "name": "stdout",
     "output_type": "stream",
     "text": [
      "topic root: Node('/Topics', count=1, lvl=0)\n",
      "topic list: []\n"
     ]
    },
    {
     "name": "stderr",
     "output_type": "stream",
     "text": [
      "  3%|▎         | 1/38 [00:07<04:42,  7.64s/it]"
     ]
    },
    {
     "name": "stdout",
     "output_type": "stream",
     "text": [
      "Document: 1\n",
      "Topics: [1] Penilaian: Refer to the process of assessment and valuation of assets, including the formation of an internal assessment team and the collection of initial data.\n",
      "--------------------\n"
     ]
    },
    {
     "name": "stderr",
     "output_type": "stream",
     "text": [
      "  5%|▌         | 2/38 [00:15<04:35,  7.65s/it]"
     ]
    },
    {
     "name": "stdout",
     "output_type": "stream",
     "text": [
      "Document: 2\n",
      "Topics: [1] Akuntan: Refers to the roles and responsibilities of accountants, including their education, certification, and professional obligations.\n",
      "--------------------\n"
     ]
    },
    {
     "name": "stderr",
     "output_type": "stream",
     "text": [
      "  8%|▊         | 3/38 [00:22<04:14,  7.27s/it]"
     ]
    },
    {
     "name": "stdout",
     "output_type": "stream",
     "text": [
      "Document: 3\n",
      "Topics: [1] Badan Layanan Umum: Refer to the roles and responsibilities of the Public Service Agency.\n",
      "[1] Pegawai Negeri Sipil: Refer to the employment of civil servants.\n",
      "[1] Remunerasi: Refer to the principles, components, and determination of remuneration.\n",
      "--------------------\n"
     ]
    },
    {
     "name": "stderr",
     "output_type": "stream",
     "text": [
      " 11%|█         | 4/38 [00:28<03:57,  6.99s/it]"
     ]
    },
    {
     "name": "stdout",
     "output_type": "stream",
     "text": [
      "Document: 4\n",
      "Topics: [1] Pajak: Refer to general tax regulations and procedures.\n",
      "--------------------\n"
     ]
    },
    {
     "name": "stderr",
     "output_type": "stream",
     "text": [
      " 13%|█▎        | 5/38 [00:42<05:15,  9.56s/it]"
     ]
    },
    {
     "name": "stdout",
     "output_type": "stream",
     "text": [
      "Document: 5\n",
      "Topics: [1] Jaminan Sosial: Refer to the roles and procedures of the Social Security Agency in collaboration with government institutions and organizations, both domestic and international.\n",
      "--------------------\n"
     ]
    },
    {
     "name": "stderr",
     "output_type": "stream",
     "text": [
      " 16%|█▌        | 6/38 [00:50<04:46,  8.95s/it]"
     ]
    },
    {
     "name": "stdout",
     "output_type": "stream",
     "text": [
      "Document: 6\n",
      "Topics: [1] Rekonsiliasi: Refers to the process of reconciling financial records and statements.\n",
      "[1] Bendahara Umum Negara: Refers to the General Treasurer of the State.\n",
      "[1] Kuasa Bendahara Umum Negara: Refers to the authorized representative of the General Treasurer of the State.\n",
      "--------------------\n"
     ]
    },
    {
     "name": "stderr",
     "output_type": "stream",
     "text": [
      " 18%|█▊        | 7/38 [00:59<04:38,  8.97s/it]"
     ]
    },
    {
     "name": "stdout",
     "output_type": "stream",
     "text": [
      "Document: 7\n",
      "Topics: [1] Penanggulangan Bencana: Refer to the organization and management of disaster response and recovery efforts, including prevention, preparedness, mitigation, and rehabilitation.\n",
      "\n",
      "[1] Badan Nasional Penanggulangan Bencana: Refer to the national agency responsible for coordinating disaster management activities at the national level.\n",
      "\n",
      "[1] Pemerintah Daerah: Refer to the role of local government in disaster management and response.\n",
      "\n",
      "Note: The existing top-level topics are not relevant to the document and no duplicates or relevant topics are found in the hierarchy.\n",
      "--------------------\n"
     ]
    },
    {
     "name": "stderr",
     "output_type": "stream",
     "text": [
      " 21%|██        | 8/38 [01:06<04:09,  8.33s/it]"
     ]
    },
    {
     "name": "stdout",
     "output_type": "stream",
     "text": [
      "Document: 8\n",
      "Topics: [1] Intelijen Negara: Refer to the roles, tasks, and coordination mechanisms of the State Intelligence Agency.\n",
      "--------------------\n"
     ]
    },
    {
     "name": "stderr",
     "output_type": "stream",
     "text": [
      " 24%|██▎       | 9/38 [01:13<03:45,  7.77s/it]"
     ]
    },
    {
     "name": "stdout",
     "output_type": "stream",
     "text": [
      "Document: 9\n",
      "Topics: [1] Kepabeanan: Refer to customs regulations and procedures for import and export activities.\n",
      "--------------------\n"
     ]
    },
    {
     "name": "stderr",
     "output_type": "stream",
     "text": [
      " 26%|██▋       | 10/38 [01:19<03:24,  7.29s/it]"
     ]
    },
    {
     "name": "stdout",
     "output_type": "stream",
     "text": [
      "Document: 10\n",
      "Topics: [1] Hibah: Refer to the procedures and regulations related to government grants and their management.\n",
      "--------------------\n"
     ]
    },
    {
     "name": "stderr",
     "output_type": "stream",
     "text": [
      " 29%|██▉       | 11/38 [01:26<03:14,  7.19s/it]"
     ]
    },
    {
     "name": "stdout",
     "output_type": "stream",
     "text": [
      "Document: 11\n",
      "Topics: [1] Pajak: Refer to general tax regulations and procedures.\n",
      "[1] Penilaian: Refer to valuation of taxable goods and services.\n",
      "[1] Akuntan: Refer to the role of accountants in tax compliance.\n",
      "--------------------\n"
     ]
    },
    {
     "name": "stderr",
     "output_type": "stream",
     "text": [
      " 32%|███▏      | 12/38 [01:32<03:00,  6.95s/it]"
     ]
    },
    {
     "name": "stdout",
     "output_type": "stream",
     "text": [
      "Document: 12\n",
      "Topics: [1] Pembangunan: Refer to national and regional development plans for the years 2004-2009.\n",
      "--------------------\n"
     ]
    },
    {
     "name": "stderr",
     "output_type": "stream",
     "text": [
      " 34%|███▍      | 13/38 [01:38<02:49,  6.76s/it]"
     ]
    },
    {
     "name": "stdout",
     "output_type": "stream",
     "text": [
      "Document: 13\n",
      "Topics: [1] Kepabeanan: Refer to customs regulations and procedures.\n",
      "[1] Penanggulangan Bencana: Refer to disaster management and response.\n",
      "[1] Hibah: Refer to regulations and procedures related to gifts and grants.\n",
      "--------------------\n"
     ]
    },
    {
     "name": "stderr",
     "output_type": "stream",
     "text": [
      " 37%|███▋      | 14/38 [01:45<02:37,  6.58s/it]"
     ]
    },
    {
     "name": "stdout",
     "output_type": "stream",
     "text": [
      "Document: 14\n",
      "Topics: [1] Kepabeanan: Refer to customs regulations and procedures.\n",
      "--------------------\n"
     ]
    },
    {
     "name": "stderr",
     "output_type": "stream",
     "text": [
      " 39%|███▉      | 15/38 [01:51<02:32,  6.63s/it]"
     ]
    },
    {
     "name": "stdout",
     "output_type": "stream",
     "text": [
      "Document: 15\n",
      "Topics: [1] Pajak: Refer to general income tax regulations.\n",
      "[1] Perbankan: Refer to Islamic banking and its principles.\n",
      "[1] Simpanan: Refer to deposit accounts in Islamic banking.\n",
      "--------------------\n"
     ]
    },
    {
     "name": "stderr",
     "output_type": "stream",
     "text": [
      " 42%|████▏     | 16/38 [01:58<02:26,  6.64s/it]"
     ]
    },
    {
     "name": "stdout",
     "output_type": "stream",
     "text": [
      "Document: 16\n",
      "Topics: [1] Rencana Kerja dan Anggaran Kementerian Negara/Lembaga: Refers to the planning and budgeting of government ministries/agencies.\n",
      "--------------------\n"
     ]
    },
    {
     "name": "stderr",
     "output_type": "stream",
     "text": [
      " 45%|████▍     | 17/38 [02:05<02:22,  6.78s/it]"
     ]
    },
    {
     "name": "stdout",
     "output_type": "stream",
     "text": [
      "Document: 17\n",
      "Topics: [1] Simpanan: Refer to the role and functions of the Deposit Insurance Agency in guaranteeing deposits in banks.\n",
      "[1] Penerimaan Negara Bukan Pajak: Refer to non-tax revenue received by the central government.\n",
      "[1] Bank: Refer to the role and functions of banks in the financial system.\n",
      "--------------------\n"
     ]
    },
    {
     "name": "stderr",
     "output_type": "stream",
     "text": [
      " 47%|████▋     | 18/38 [02:12<02:16,  6.82s/it]"
     ]
    },
    {
     "name": "stdout",
     "output_type": "stream",
     "text": [
      "Document: 18\n",
      "Topics: [1] Disiplin Pegawai: Refer to the procedures and actions related to disciplinary violations and punishments for civil servants.\n",
      "--------------------\n"
     ]
    },
    {
     "name": "stderr",
     "output_type": "stream",
     "text": [
      " 50%|█████     | 19/38 [02:20<02:16,  7.20s/it]"
     ]
    },
    {
     "name": "stdout",
     "output_type": "stream",
     "text": [
      "Document: 19\n",
      "Topics: [1] Statistik Keuangan Pemerintah Umum: Refers to the financial statistics of the general government.\n",
      "[1] Perbendaharaan: Refers to the treasury department responsible for financial management.\n",
      "[1] Akuntansi dan Pelaporan Keuangan: Refers to the accounting and financial reporting department.\n",
      "--------------------\n"
     ]
    },
    {
     "name": "stderr",
     "output_type": "stream",
     "text": [
      " 53%|█████▎    | 20/38 [02:27<02:08,  7.15s/it]"
     ]
    },
    {
     "name": "stdout",
     "output_type": "stream",
     "text": [
      "Document: 20\n",
      "Topics: [1] Pornografi: Refer to the roles and responsibilities of the Task Force for Prevention and Handling of Pornography.\n",
      "--------------------\n"
     ]
    },
    {
     "name": "stderr",
     "output_type": "stream",
     "text": [
      " 55%|█████▌    | 21/38 [02:34<01:59,  7.05s/it]"
     ]
    },
    {
     "name": "stdout",
     "output_type": "stream",
     "text": [
      "Document: 21\n",
      "Topics: [1] Akuntan: Refer to the roles, responsibilities, and regulations related to accountants and accounting practices.\n",
      "--------------------\n"
     ]
    },
    {
     "name": "stderr",
     "output_type": "stream",
     "text": [
      " 58%|█████▊    | 22/38 [02:41<01:51,  6.99s/it]"
     ]
    },
    {
     "name": "stdout",
     "output_type": "stream",
     "text": [
      "Document: 22\n",
      "Topics: [1] Pegawai Negeri Sipil: Refers to civil servants in the document's set of keywords.\n",
      "--------------------\n"
     ]
    },
    {
     "name": "stderr",
     "output_type": "stream",
     "text": [
      " 61%|██████    | 23/38 [02:49<01:49,  7.28s/it]"
     ]
    },
    {
     "name": "stdout",
     "output_type": "stream",
     "text": [
      "Document: 23\n",
      "Topics: [1] Jaminan Kesehatan: Refer to the organization and funding of the Social Health Insurance Agency.\n",
      "[1] Bendahara Umum Negara: Refer to the roles and responsibilities of the General Treasurer.\n",
      "[1] Pemerintah Daerah: Refer to the budgeting and allocation of funds to local governments.\n",
      "--------------------\n"
     ]
    },
    {
     "name": "stderr",
     "output_type": "stream",
     "text": [
      " 63%|██████▎   | 24/38 [02:57<01:44,  7.50s/it]"
     ]
    },
    {
     "name": "stdout",
     "output_type": "stream",
     "text": [
      "Document: 24\n",
      "Topics: [1] Pemerintah Daerah: Refer to the allocation and management of grants from the central government to regional governments.\n",
      "[1] Anggaran Pendapatan dan Belanja Daerah: Refer to the budgeting and expenditure of regional governments.\n",
      "[1] Hibah: Refer to the provision and management of grants from the government to regional governments.\n",
      "--------------------\n"
     ]
    },
    {
     "name": "stderr",
     "output_type": "stream",
     "text": [
      " 66%|██████▌   | 25/38 [03:04<01:34,  7.25s/it]"
     ]
    },
    {
     "name": "stdout",
     "output_type": "stream",
     "text": [
      "Document: 25\n",
      "Topics: [1] Nuklir: Refer to roles and responsibilities of the National Nuclear Energy Agency.\n",
      "--------------------\n"
     ]
    },
    {
     "name": "stderr",
     "output_type": "stream",
     "text": [
      " 68%|██████▊   | 26/38 [03:11<01:29,  7.43s/it]"
     ]
    },
    {
     "name": "stdout",
     "output_type": "stream",
     "text": [
      "Document: 26\n",
      "Topics: [1] Akuntansi dan Pelaporan Keuangan: Refer to special accounting and financial reporting transactions, including the responsibility statement and review of financial statements.\n",
      "[1] Penerimaan Negara Bukan Pajak: Refer to non-tax state revenue.\n",
      "[1] Bendahara Umum Negara: Refer to the role and responsibilities of the General Treasurer.\n",
      "\n",
      "--------------------\n"
     ]
    },
    {
     "name": "stderr",
     "output_type": "stream",
     "text": [
      " 71%|███████   | 27/38 [03:18<01:18,  7.10s/it]"
     ]
    },
    {
     "name": "stdout",
     "output_type": "stream",
     "text": [
      "Document: 27\n",
      "Topics: [1] Penilaian: Refers to the process of assessment and valuation of state-owned assets.\n",
      "--------------------\n"
     ]
    },
    {
     "name": "stderr",
     "output_type": "stream",
     "text": [
      " 74%|███████▎  | 28/38 [03:26<01:14,  7.44s/it]"
     ]
    },
    {
     "name": "stdout",
     "output_type": "stream",
     "text": [
      "Document: 28\n",
      "Topics: [1] Perguruan Tinggi: Refers to higher education institutions and their related topics such as faculty, certification, employment agreements, and benefits.\n",
      "\n",
      "[1] Pemerintah Daerah: Refers to topics related to local government and its role in education, including policies, funding, and administration.\n",
      "\n",
      "[1] Kebebasan Akademik: Refers to academic freedom and related topics such as freedom of speech, research, and autonomy in teaching and learning.\n",
      "\n",
      "Note: The existing top-level topics in the hierarchy are already relevant to the document and do not need to be modified.\n",
      "--------------------\n"
     ]
    },
    {
     "name": "stderr",
     "output_type": "stream",
     "text": [
      " 76%|███████▋  | 29/38 [03:35<01:10,  7.82s/it]"
     ]
    },
    {
     "name": "stdout",
     "output_type": "stream",
     "text": [
      "Document: 29\n",
      "Topics: [1] Energi: Refers to the management, conservation, and utilization of energy resources, including renewable energy sources and energy efficiency.\n",
      "\n",
      "[1] Lingkungan Hidup: Refers to the environmental aspects related to energy management, including environmental conservation and workplace safety.\n",
      "\n",
      "[1] Kebijakan Energi Nasional: Refers to the national energy policy goals, targets, and main strategies for energy development and utilization.\n",
      "\n",
      "Note: The existing top-level topics are not modified or duplicated in the document's set of keywords.\n",
      "--------------------\n"
     ]
    },
    {
     "name": "stderr",
     "output_type": "stream",
     "text": [
      " 79%|███████▉  | 30/38 [03:41<00:59,  7.42s/it]"
     ]
    },
    {
     "name": "stdout",
     "output_type": "stream",
     "text": [
      "Document: 30\n",
      "Topics: [1] Akuntansi dan Pelaporan Keuangan: Refer to the accounting and financial reporting system for transfers to regions and village funds.\n",
      "--------------------\n"
     ]
    },
    {
     "name": "stderr",
     "output_type": "stream",
     "text": [
      " 82%|████████▏ | 31/38 [03:48<00:50,  7.27s/it]"
     ]
    },
    {
     "name": "stdout",
     "output_type": "stream",
     "text": [
      "Document: 31\n",
      "Topics: [1] Kepabeanan: Refer to regulations and procedures related to customs and excise, including temporary storage, bonded storage, customs areas, factories, storage places, and related documents.\n",
      "--------------------\n"
     ]
    },
    {
     "name": "stderr",
     "output_type": "stream",
     "text": [
      " 84%|████████▍ | 32/38 [03:55<00:43,  7.24s/it]"
     ]
    },
    {
     "name": "stdout",
     "output_type": "stream",
     "text": [
      "Document: 32\n",
      "Topics: [1] Pemberdayaan Lembaga Jasa Keuangan: Refers to the empowerment of financial institutions in the housing financing system and the procedures for the allocation and cultivation of funds.\n",
      "--------------------\n"
     ]
    },
    {
     "name": "stderr",
     "output_type": "stream",
     "text": [
      " 87%|████████▋ | 33/38 [04:02<00:35,  7.01s/it]"
     ]
    },
    {
     "name": "stdout",
     "output_type": "stream",
     "text": [
      "Document: 33\n",
      "Topics: [1] Pemerintah Daerah: Refers to the local government and its functions in managing regional affairs and finances.\n",
      "--------------------\n"
     ]
    },
    {
     "name": "stderr",
     "output_type": "stream",
     "text": [
      " 89%|████████▉ | 34/38 [04:08<00:27,  6.83s/it]"
     ]
    },
    {
     "name": "stdout",
     "output_type": "stream",
     "text": [
      "Document: 34\n",
      "Topics: [1] Penyakit Hewan: Refers to diseases affecting animals and their prevention, control, and treatment.\n",
      "--------------------\n"
     ]
    },
    {
     "name": "stderr",
     "output_type": "stream",
     "text": [
      " 92%|█████████▏| 35/38 [04:15<00:20,  6.77s/it]"
     ]
    },
    {
     "name": "stdout",
     "output_type": "stream",
     "text": [
      "Document: 35\n",
      "Topics: [1] Pegawai Negeri Sipil: Refers to civil servants in the document's set of keywords.\n",
      "--------------------\n"
     ]
    },
    {
     "name": "stderr",
     "output_type": "stream",
     "text": [
      " 95%|█████████▍| 36/38 [04:21<00:13,  6.74s/it]"
     ]
    },
    {
     "name": "stdout",
     "output_type": "stream",
     "text": [
      "Document: 36\n",
      "Topics: [1] Pengelolaan Sampah: Refers to the management of household waste, including waste reduction, handling, and disposal.\n",
      "--------------------\n"
     ]
    },
    {
     "name": "stderr",
     "output_type": "stream",
     "text": [
      " 97%|█████████▋| 37/38 [04:29<00:06,  6.95s/it]"
     ]
    },
    {
     "name": "stdout",
     "output_type": "stream",
     "text": [
      "Document: 37\n",
      "Topics: [1] Bendahara Umum Negara: Refer to the roles and responsibilities of the General Treasurer of the State.\n",
      "[1] Menteri Keuangan: Refer to the roles and responsibilities of the Minister of Finance.\n",
      "[1] Kuasa Bendahara Umum Negara: Refer to the authorized person to act on behalf of the General Treasurer of the State.\n",
      "--------------------\n"
     ]
    },
    {
     "name": "stderr",
     "output_type": "stream",
     "text": [
      "100%|██████████| 38/38 [04:35<00:00,  7.26s/it]"
     ]
    },
    {
     "name": "stdout",
     "output_type": "stream",
     "text": [
      "Document: 38\n",
      "Topics: [1] Dokumen Hukum: Refers to legal documents related to finance and state assets management.\n",
      "--------------------\n",
      "topic root: Node('/Topics', count=1, lvl=0)\n",
      "topic list: ['[1] Penilaian', '[1] Akuntan', '[1] Badan Layanan Umum', '[1] Pegawai Negeri Sipil', '[1] Remunerasi', '[1] Pajak', '[1] Jaminan Sosial', '[1] Rekonsiliasi', '[1] Bendahara Umum Negara', '[1] Kuasa Bendahara Umum Negara', '[1] Penanggulangan Bencana', '[1] Badan Nasional Penanggulangan Bencana', '[1] Pemerintah Daerah', '[1] Intelijen Negara', '[1] Kepabeanan', '[1] Hibah', '[1] Pembangunan', '[1] Perbankan', '[1] Simpanan', '[1] Penerimaan Negara Bukan Pajak', '[1] Bank', '[1] Disiplin Pegawai', '[1] Statistik Keuangan Pemerintah Umum', '[1] Perbendaharaan', '[1] Akuntansi dan Pelaporan Keuangan', '[1] Pornografi', '[1] Jaminan Kesehatan', '[1] Anggaran Pendapatan dan Belanja Daerah', '[1] Nuklir', '[1] Perguruan Tinggi', '[1] Kebebasan Akademik', '[1] Energi', '[1] Lingkungan Hidup', '[1] Kebijakan Energi Nasional', '[1] Pemberdayaan Lembaga Jasa Keuangan', '[1] Penyakit Hewan', '[1] Pengelolaan Sampah', '[1] Menteri Keuangan', '[1] Dokumen Hukum']\n"
     ]
    },
    {
     "name": "stderr",
     "output_type": "stream",
     "text": [
      "\n"
     ]
    }
   ],
   "source": [
    "# Description: Example of how to run the generation script\n",
    "%run generation_1.py --deployment_name gpt-35-turbo-16k --max_tokens 500 --temperature 0.0 --top_p 0.0 --data $data_sample --prompt_file $generation_prompt --seed_file $seed_1 --out_file $generation_out --topic_file $generation_topic --verbose True"
   ]
  },
  {
   "cell_type": "code",
   "execution_count": 9,
   "metadata": {
    "ExecuteTime": {
     "end_time": "2024-05-06T08:44:39.474132Z",
     "start_time": "2024-05-06T08:39:56.570452Z"
    }
   },
   "outputs": [
    {
     "name": "stdout",
     "output_type": "stream",
     "text": [
      "topic root: Node('/Topics', count=1, lvl=0)\n",
      "topic list: []\n"
     ]
    },
    {
     "name": "stderr",
     "output_type": "stream",
     "text": [
      "  3%|▎         | 1/38 [00:06<04:14,  6.87s/it]"
     ]
    },
    {
     "name": "stdout",
     "output_type": "stream",
     "text": [
      "Document: 1\n",
      "Topics: [1] Penilaian: Refer to the process of assessment and valuation of assets, including the formation of an internal assessment team and the collection of initial data.\n",
      "--------------------\n"
     ]
    },
    {
     "name": "stderr",
     "output_type": "stream",
     "text": [
      "  5%|▌         | 2/38 [00:13<04:02,  6.74s/it]"
     ]
    },
    {
     "name": "stdout",
     "output_type": "stream",
     "text": [
      "Document: 2\n",
      "Topics: [1] Akuntan: Refer to the roles and responsibilities of accountants and accounting firms.\n",
      "--------------------\n"
     ]
    },
    {
     "name": "stderr",
     "output_type": "stream",
     "text": [
      "  8%|▊         | 3/38 [00:21<04:12,  7.22s/it]"
     ]
    },
    {
     "name": "stdout",
     "output_type": "stream",
     "text": [
      "Document: 3\n",
      "Topics: [1] Badan Layanan Umum: Refer to the roles and responsibilities of the Public Service Agency.\n",
      "[1] Pegawai Negeri Sipil: Refer to the employment of civil servants.\n",
      "[1] Remunerasi: Refer to the principles, components, and procedures for proposing and determining remuneration.\n",
      "--------------------\n"
     ]
    },
    {
     "name": "stderr",
     "output_type": "stream",
     "text": [
      " 11%|█         | 4/38 [00:27<03:45,  6.64s/it]"
     ]
    },
    {
     "name": "stdout",
     "output_type": "stream",
     "text": [
      "Document: 4\n",
      "Topics: [1] Pajak: Refer to general tax regulations and procedures.\n",
      "--------------------\n"
     ]
    },
    {
     "name": "stderr",
     "output_type": "stream",
     "text": [
      " 13%|█▎        | 5/38 [00:33<03:34,  6.49s/it]"
     ]
    },
    {
     "name": "stdout",
     "output_type": "stream",
     "text": [
      "Document: 5\n",
      "Topics: [1] Jaminan Sosial: Refers to the organization and procedures of the Social Security Agency and its cooperation with government and non-government organizations, both domestically and internationally.\n",
      "--------------------\n"
     ]
    },
    {
     "name": "stderr",
     "output_type": "stream",
     "text": [
      " 16%|█▌        | 6/38 [00:41<03:41,  6.93s/it]"
     ]
    },
    {
     "name": "stdout",
     "output_type": "stream",
     "text": [
      "Document: 6\n",
      "Topics: [1] Rekonsiliasi: Refers to the process of reconciling financial records and statements.\n",
      "[1] Bendahara Umum Negara: Refers to the General Treasurer of the State.\n",
      "[1] Kuasa Bendahara Umum Negara: Refers to the authorized representative of the General Treasurer of the State.\n",
      "--------------------\n"
     ]
    },
    {
     "name": "stderr",
     "output_type": "stream",
     "text": [
      " 18%|█▊        | 7/38 [00:48<03:37,  7.01s/it]"
     ]
    },
    {
     "name": "stdout",
     "output_type": "stream",
     "text": [
      "Document: 7\n",
      "Topics: [1] Penanggulangan Bencana: Refer to disaster management and mitigation efforts, including prevention, preparedness, early warning, emergency response, rehabilitation, and reconstruction.\n",
      "\n",
      "[1] Badan Nasional Penanggulangan Bencana: Refer to the National Disaster Management Agency responsible for coordinating disaster management efforts at the national level.\n",
      "\n",
      "[1] Pemerintah Daerah: Refer to local government authorities responsible for implementing disaster management measures at the regional level.\n",
      "--------------------\n"
     ]
    },
    {
     "name": "stderr",
     "output_type": "stream",
     "text": [
      " 21%|██        | 8/38 [00:54<03:20,  6.67s/it]"
     ]
    },
    {
     "name": "stdout",
     "output_type": "stream",
     "text": [
      "Document: 8\n",
      "Topics: [1] Intelijen Negara: Refer to the roles, tasks, and coordination mechanisms of the State Intelligence Agency.\n",
      "--------------------\n"
     ]
    },
    {
     "name": "stderr",
     "output_type": "stream",
     "text": [
      " 24%|██▎       | 9/38 [01:02<03:24,  7.05s/it]"
     ]
    },
    {
     "name": "stdout",
     "output_type": "stream",
     "text": [
      "Document: 9\n",
      "Topics: [1] Kepabeanan: Refer to general regulations and procedures related to customs and excise.\n",
      "[1] Penerimaan Negara: Refer to the collection of state revenue, including customs and excise duties.\n",
      "[1] Bendahara Penerimaan: Refer to the role and responsibilities of the state treasurer in managing state revenue.\n",
      "--------------------\n"
     ]
    },
    {
     "name": "stderr",
     "output_type": "stream",
     "text": [
      " 26%|██▋       | 10/38 [01:10<03:28,  7.44s/it]"
     ]
    },
    {
     "name": "stdout",
     "output_type": "stream",
     "text": [
      "Document: 10\n",
      "Topics: [1] Anggaran Pendapatan dan Belanja Negara: Refer to the budgeting and expenditure of the state.\n",
      "[1] Kementerian/Lembaga: Refer to the ministries and institutions.\n",
      "[1] Hibah Pemerintah: Refer to government grants.\n",
      "--------------------\n"
     ]
    },
    {
     "name": "stderr",
     "output_type": "stream",
     "text": [
      " 29%|██▉       | 11/38 [01:17<03:16,  7.29s/it]"
     ]
    },
    {
     "name": "stdout",
     "output_type": "stream",
     "text": [
      "Document: 11\n",
      "Topics: [1] Pajak: Refer to general value-added tax regulations and procedures.\n",
      "[1] Penilaian: Refer to the assessment of taxable entities and calculation of tax base.\n",
      "[1] Akuntan: Refer to the role of accountants in tax-related matters.\n",
      "--------------------\n"
     ]
    },
    {
     "name": "stderr",
     "output_type": "stream",
     "text": [
      " 32%|███▏      | 12/38 [01:23<03:01,  6.97s/it]"
     ]
    },
    {
     "name": "stdout",
     "output_type": "stream",
     "text": [
      "Document: 12\n",
      "Topics: [1] Pembangunan: Refer to national and regional development plans for the years 2004-2009.\n",
      "--------------------\n"
     ]
    },
    {
     "name": "stderr",
     "output_type": "stream",
     "text": [
      " 34%|███▍      | 13/38 [01:30<02:55,  7.00s/it]"
     ]
    },
    {
     "name": "stdout",
     "output_type": "stream",
     "text": [
      "Document: 13\n",
      "Topics: [1] Pajak: Refer to general tax regulations and procedures.\n",
      "[1] Penanggulangan Bencana: Refer to national and regional disaster management agencies and activities.\n",
      "[1] Kepabeanan: Refer to customs regulations and procedures.\n",
      "--------------------\n"
     ]
    },
    {
     "name": "stderr",
     "output_type": "stream",
     "text": [
      " 37%|███▋      | 14/38 [01:36<02:42,  6.77s/it]"
     ]
    },
    {
     "name": "stdout",
     "output_type": "stream",
     "text": [
      "Document: 14\n",
      "Topics: [1] Kepabeanan: Refer to customs regulations and procedures.\n",
      "--------------------\n"
     ]
    },
    {
     "name": "stderr",
     "output_type": "stream",
     "text": [
      " 39%|███▉      | 15/38 [01:45<02:52,  7.48s/it]"
     ]
    },
    {
     "name": "stdout",
     "output_type": "stream",
     "text": [
      "Document: 15\n",
      "Topics: [1] Perbankan Syariah: Refer to the principles and practices of Islamic banking.\n",
      "[1] Simpanan: Refer to the types and management of deposits in banking.\n",
      "[1] Prinsip Syariah: Refer to the principles of Islamic law applied in banking and finance.\n",
      "--------------------\n"
     ]
    },
    {
     "name": "stderr",
     "output_type": "stream",
     "text": [
      " 42%|████▏     | 16/38 [01:52<02:39,  7.27s/it]"
     ]
    },
    {
     "name": "stdout",
     "output_type": "stream",
     "text": [
      "Document: 16\n",
      "Topics: [1] Rencana Kerja dan Anggaran Kementerian Negara/Lembaga: Refers to the planning and budgeting of government ministries/agencies.\n",
      "--------------------\n"
     ]
    },
    {
     "name": "stderr",
     "output_type": "stream",
     "text": [
      " 45%|████▍     | 17/38 [02:00<02:35,  7.39s/it]"
     ]
    },
    {
     "name": "stdout",
     "output_type": "stream",
     "text": [
      "Document: 17\n",
      "Topics: [1] Simpanan: Refer to the role and functions of the Deposit Insurance Agency in guaranteeing deposits in banks.\n",
      "[1] Penerimaan Negara Bukan Pajak: Refer to non-tax revenue received by the government.\n",
      "[1] Anggaran Pendapatan dan Belanja Negara: Refer to the state budget for revenue and expenditure.\n",
      "--------------------\n"
     ]
    },
    {
     "name": "stderr",
     "output_type": "stream",
     "text": [
      " 47%|████▋     | 18/38 [02:08<02:31,  7.57s/it]"
     ]
    },
    {
     "name": "stdout",
     "output_type": "stream",
     "text": [
      "Document: 18\n",
      "Topics: [1] Pegawai Negeri Sipil: Refer to the roles and responsibilities of civil servants in relation to disciplinary violations and punishment.\n",
      "[1] Pemeriksaan Pelanggaran Disiplin: Refer to the process of examining disciplinary violations.\n",
      "[1] Penjatuhan Hukuman Disiplin: Refer to the process of imposing disciplinary sanctions.\n",
      "--------------------\n"
     ]
    },
    {
     "name": "stderr",
     "output_type": "stream",
     "text": [
      " 50%|█████     | 19/38 [02:15<02:20,  7.39s/it]"
     ]
    },
    {
     "name": "stdout",
     "output_type": "stream",
     "text": [
      "Document: 19\n",
      "Topics: [1] Statistik Keuangan Pemerintah Umum: Refers to the financial statistics of the general government.\n",
      "[1] Perbendaharaan: Refers to the treasury department responsible for financial management.\n",
      "[1] Akuntansi dan Pelaporan Keuangan: Refers to the accounting and financial reporting department.\n",
      "--------------------\n"
     ]
    },
    {
     "name": "stderr",
     "output_type": "stream",
     "text": [
      " 53%|█████▎    | 20/38 [02:21<02:08,  7.14s/it]"
     ]
    },
    {
     "name": "stdout",
     "output_type": "stream",
     "text": [
      "Document: 20\n",
      "Topics: [1] Pornografi: Refer to the roles and responsibilities of the Task Force for Prevention and Handling of Pornography.\n",
      "--------------------\n"
     ]
    },
    {
     "name": "stderr",
     "output_type": "stream",
     "text": [
      " 55%|█████▌    | 21/38 [02:28<01:58,  6.96s/it]"
     ]
    },
    {
     "name": "stdout",
     "output_type": "stream",
     "text": [
      "Document: 21\n",
      "Topics: [1] Akuntan: Refer to the roles and responsibilities of accountants, including registration, practice, certification, and professional associations.\n",
      "--------------------\n"
     ]
    },
    {
     "name": "stderr",
     "output_type": "stream",
     "text": [
      " 58%|█████▊    | 22/38 [02:34<01:48,  6.81s/it]"
     ]
    },
    {
     "name": "stdout",
     "output_type": "stream",
     "text": [
      "Document: 22\n",
      "Topics: [1] Pegawai Negeri Sipil: Refers to civil servants in the document's set of keywords.\n",
      "--------------------\n"
     ]
    },
    {
     "name": "stderr",
     "output_type": "stream",
     "text": [
      " 61%|██████    | 23/38 [02:42<01:46,  7.10s/it]"
     ]
    },
    {
     "name": "stdout",
     "output_type": "stream",
     "text": [
      "Document: 23\n",
      "Topics: [1] Jaminan Kesehatan: Refer to the implementation of health insurance and the role of the Social Security Administration in providing healthcare coverage.\n",
      "[1] Pemerintah Daerah: Refer to the role and responsibilities of local government authorities.\n",
      "[1] Bendahara Umum Negara: Refer to the authority and responsibilities of the General Treasurer in managing state finances.\n",
      "--------------------\n"
     ]
    },
    {
     "name": "stderr",
     "output_type": "stream",
     "text": [
      " 63%|██████▎   | 24/38 [02:50<01:40,  7.21s/it]"
     ]
    },
    {
     "name": "stdout",
     "output_type": "stream",
     "text": [
      "Document: 24\n",
      "Topics: [1] Pemerintah Pusat: Refers to the central government.\n",
      "[1] Pemerintah Daerah: Refers to the local government.\n",
      "[1] Anggaran Pendapatan dan Belanja Negara: Refers to the state budget.\n",
      "\n",
      "--------------------\n"
     ]
    },
    {
     "name": "stderr",
     "output_type": "stream",
     "text": [
      " 66%|██████▌   | 25/38 [02:57<01:32,  7.11s/it]"
     ]
    },
    {
     "name": "stdout",
     "output_type": "stream",
     "text": [
      "Document: 25\n",
      "Topics: [1] Nuklir: Refer to roles and responsibilities of the National Nuclear Energy Agency.\n",
      "--------------------\n"
     ]
    },
    {
     "name": "stderr",
     "output_type": "stream",
     "text": [
      " 68%|██████▊   | 26/38 [03:05<01:31,  7.62s/it]"
     ]
    },
    {
     "name": "stdout",
     "output_type": "stream",
     "text": [
      "Document: 26\n",
      "Topics: [1] Akuntansi dan Pelaporan Keuangan: Refer to special accounting and financial reporting transactions, including the responsibility statement and review of financial statements.\n",
      "[1] Penerimaan Negara Bukan Pajak: Refer to non-tax state revenue, including the management and reporting of such revenue.\n",
      "[1] Rekonsiliasi: Refer to the reconciliation process, which involves comparing and adjusting financial records to ensure accuracy.\n",
      "--------------------\n"
     ]
    },
    {
     "name": "stderr",
     "output_type": "stream",
     "text": [
      " 71%|███████   | 27/38 [03:12<01:20,  7.30s/it]"
     ]
    },
    {
     "name": "stdout",
     "output_type": "stream",
     "text": [
      "Document: 27\n",
      "Topics: [1] Penilaian: Refer to the process of assessment and valuation of state assets.\n",
      "--------------------\n"
     ]
    },
    {
     "name": "stderr",
     "output_type": "stream",
     "text": [
      " 74%|███████▎  | 28/38 [03:20<01:15,  7.54s/it]"
     ]
    },
    {
     "name": "stdout",
     "output_type": "stream",
     "text": [
      "Document: 28\n",
      "Topics: [1] Perguruan Tinggi: Refer to topics related to higher education institutions and their administration.\n",
      "[1] Sertifikasi: Refer to topics related to certification and qualifications in the education sector.\n",
      "[1] Gaji: Refer to topics related to salary and remuneration for academic staff.\n",
      "\n",
      "--------------------\n"
     ]
    },
    {
     "name": "stderr",
     "output_type": "stream",
     "text": [
      " 76%|███████▋  | 29/38 [03:27<01:06,  7.40s/it]"
     ]
    },
    {
     "name": "stdout",
     "output_type": "stream",
     "text": [
      "Document: 29\n",
      "Topics: [1] Energi: Refers to the management, conservation, and utilization of energy resources, including renewable energy sources and energy diversification.\n",
      "--------------------\n"
     ]
    },
    {
     "name": "stderr",
     "output_type": "stream",
     "text": [
      " 79%|███████▉  | 30/38 [03:35<01:01,  7.66s/it]"
     ]
    },
    {
     "name": "stdout",
     "output_type": "stream",
     "text": [
      "Document: 30\n",
      "Topics: [1] Akuntansi dan Pelaporan Keuangan: Refer to the accounting and financial reporting system for transfers to regions and village funds.\n",
      "[1] Bendahara Umum Negara: Refer to the role and responsibilities of the State General Treasurer.\n",
      "[1] Rekonsiliasi: Refer to the reconciliation process in the accounting and financial reporting system for transfers to regions and village funds.\n",
      "--------------------\n"
     ]
    },
    {
     "name": "stderr",
     "output_type": "stream",
     "text": [
      " 82%|████████▏ | 31/38 [03:43<00:53,  7.64s/it]"
     ]
    },
    {
     "name": "stdout",
     "output_type": "stream",
     "text": [
      "Document: 31\n",
      "Topics: [1] Kepabeanan: Refer to regulations and procedures related to customs and excise, including temporary storage, bonded storage, customs areas, factories, and storage places.\n",
      "--------------------\n"
     ]
    },
    {
     "name": "stderr",
     "output_type": "stream",
     "text": [
      " 84%|████████▍ | 32/38 [03:50<00:45,  7.56s/it]"
     ]
    },
    {
     "name": "stdout",
     "output_type": "stream",
     "text": [
      "Document: 32\n",
      "Topics: [1] Pemberdayaan Lembaga Jasa Keuangan: Refers to the empowerment of financial institutions in the housing financing system and the procedures for the allocation and cultivation of funds.\n",
      "--------------------\n"
     ]
    },
    {
     "name": "stderr",
     "output_type": "stream",
     "text": [
      " 87%|████████▋ | 33/38 [03:58<00:38,  7.72s/it]"
     ]
    },
    {
     "name": "stdout",
     "output_type": "stream",
     "text": [
      "Document: 33\n",
      "Topics: [1] Pemerintah Daerah: Refer to the budgeting and financial management of regional governments.\n",
      "[1] Anggaran Pendapatan dan Belanja Daerah: Refer to the budgeting process and expenditure of regional governments.\n",
      "[1] Pemeringkatan Kesehatan Fiskal dan Pengelolaan Keuangan Daerah: Refer to the ranking of fiscal health and financial management of regional governments.\n",
      "--------------------\n"
     ]
    },
    {
     "name": "stderr",
     "output_type": "stream",
     "text": [
      " 89%|████████▉ | 34/38 [04:06<00:30,  7.55s/it]"
     ]
    },
    {
     "name": "stdout",
     "output_type": "stream",
     "text": [
      "Document: 34\n",
      "Topics: [1] Penyakit Hewan: Refers to diseases affecting animals and their prevention, control, and treatment.\n",
      "--------------------\n"
     ]
    },
    {
     "name": "stderr",
     "output_type": "stream",
     "text": [
      " 92%|█████████▏| 35/38 [04:12<00:21,  7.32s/it]"
     ]
    },
    {
     "name": "stdout",
     "output_type": "stream",
     "text": [
      "Document: 35\n",
      "Topics: [1] Pegawai Negeri Sipil: Refers to civil servants in the document's set of keywords.\n",
      "--------------------\n"
     ]
    },
    {
     "name": "stderr",
     "output_type": "stream",
     "text": [
      " 95%|█████████▍| 36/38 [04:19<00:14,  7.08s/it]"
     ]
    },
    {
     "name": "stdout",
     "output_type": "stream",
     "text": [
      "Document: 36\n",
      "Topics: [1] Pengelolaan Sampah: Refers to the management of household waste, including waste reduction, handling, and disposal.\n",
      "--------------------\n"
     ]
    },
    {
     "name": "stderr",
     "output_type": "stream",
     "text": [
      " 97%|█████████▋| 37/38 [04:31<00:08,  8.49s/it]"
     ]
    },
    {
     "name": "stdout",
     "output_type": "stream",
     "text": [
      "Document: 37\n",
      "Topics: [1] Bendahara Umum Negara: Refer to the role and responsibilities of the General Treasurer of the State.\n",
      "[1] Menteri Keuangan: Refer to the role and responsibilities of the Minister of Finance.\n",
      "[1] Kuasa Bendahara Umum Negara: Refer to the authority and duties of the General Treasurer of the State.\n",
      "[1] Uang Negara: Refer to the management of state funds.\n",
      "[1] Pengelolaan Uang: Refer to the management of funds.\n",
      "[1] Rekening Kas Umum Negara: Refer to the general cash account of the state.\n",
      "[1] Rekening Penempatan: Refer to placement accounts.\n",
      "[1] Saldo Kas Minimal: Refer to the minimum cash balance.\n",
      "[1] OPERASIONAL REKENING PENEMPATAN: Refer to the operation of placement accounts.\n",
      "[1] BUNGA: Refer to interest.\n",
      "[1] PENATAUSAHAAN DAN PELAPORAN: Refer to administration and reporting.\n",
      "[1] PENUTUP: Refer to the closing of accounts.\n",
      "[1] Penggunaan Rekening: Refer to the use of accounts.\n",
      "[1] Penetapan Tingkat Bunga: Refer to the determination of interest rates.\n",
      "[1] Perhitungan dan Pembayaran Bunga: Refer to the calculation and payment of interest.\n",
      "--------------------\n"
     ]
    },
    {
     "name": "stderr",
     "output_type": "stream",
     "text": [
      "100%|██████████| 38/38 [04:37<00:00,  7.31s/it]"
     ]
    },
    {
     "name": "stdout",
     "output_type": "stream",
     "text": [
      "Document: 38\n",
      "Topics: [1] Dokumen Hukum: Refers to the management and organization of legal documents related to finance and state assets within the Ministry of Finance.\n",
      "--------------------\n",
      "topic root: Node('/Topics', count=1, lvl=0)\n",
      "topic list: ['[1] Penilaian', '[1] Akuntan', '[1] Badan Layanan Umum', '[1] Pegawai Negeri Sipil', '[1] Remunerasi', '[1] Pajak', '[1] Jaminan Sosial', '[1] Rekonsiliasi', '[1] Bendahara Umum Negara', '[1] Kuasa Bendahara Umum Negara', '[1] Penanggulangan Bencana', '[1] Badan Nasional Penanggulangan Bencana', '[1] Pemerintah Daerah', '[1] Intelijen Negara', '[1] Kepabeanan', '[1] Penerimaan Negara', '[1] Bendahara Penerimaan', '[1] Anggaran Pendapatan dan Belanja Negara', '[1] Hibah Pemerintah', '[1] Pembangunan', '[1] Perbankan Syariah', '[1] Simpanan', '[1] Prinsip Syariah', '[1] Penerimaan Negara Bukan Pajak', '[1] Pemeriksaan Pelanggaran Disiplin', '[1] Penjatuhan Hukuman Disiplin', '[1] Statistik Keuangan Pemerintah Umum', '[1] Perbendaharaan', '[1] Akuntansi dan Pelaporan Keuangan', '[1] Pornografi', '[1] Jaminan Kesehatan', '[1] Pemerintah Pusat', '[1] Nuklir', '[1] Perguruan Tinggi', '[1] Sertifikasi', '[1] Gaji', '[1] Energi', '[1] Pemberdayaan Lembaga Jasa Keuangan', '[1] Anggaran Pendapatan dan Belanja Daerah', '[1] Pemeringkatan Kesehatan Fiskal dan Pengelolaan Keuangan Daerah', '[1] Penyakit Hewan', '[1] Pengelolaan Sampah', '[1] Menteri Keuangan', '[1] Uang Negara', '[1] Pengelolaan Uang', '[1] Rekening Kas Umum Negara', '[1] Rekening Penempatan', '[1] Saldo Kas Minimal', '[1] OPERASIONAL REKENING PENEMPATAN', '[1] BUNGA', '[1] PENATAUSAHAAN DAN PELAPORAN', '[1] PENUTUP', '[1] Penggunaan Rekening', '[1] Penetapan Tingkat Bunga', '[1] Perhitungan dan Pembayaran Bunga', '[1] Dokumen Hukum']\n"
     ]
    },
    {
     "name": "stderr",
     "output_type": "stream",
     "text": [
      "\n"
     ]
    }
   ],
   "source": [
    "# Description: Example of how to run the generation script\n",
    "%run generation_1.py --deployment_name gpt-35-turbo-16k --max_tokens 500 --temperature 0.0 --top_p 0.0 --data $data_sample --prompt_file $generation_prompt --seed_file $seed_1 --out_file $generation_out --topic_file $generation_topic --verbose True"
   ]
  },
  {
   "cell_type": "code",
   "execution_count": 10,
   "metadata": {
    "ExecuteTime": {
     "end_time": "2024-05-06T08:44:39.483565Z",
     "start_time": "2024-05-06T08:44:39.474132Z"
    }
   },
   "outputs": [],
   "source": [
    "# - The generated topics must be relevant to the document's set of keywords."
   ]
  },
  {
   "cell_type": "code",
   "execution_count": null,
   "metadata": {},
   "outputs": [],
   "source": [
    "%run refinement.py --deployment_name gpt-4 --max_tokens 500 --temperature 0.0 --top_p 0.0 --prompt_file $refinement_prompt --generation_file $generation_out --topic_file $generation_topic --out_file $refinement_out --verbose True --updated_file $refinement_updated --mapping_file $refinement_mapping --refined_again False --remove False"
   ]
  },
  {
   "cell_type": "code",
   "execution_count": null,
   "metadata": {},
   "outputs": [],
   "source": [
    "%run generation_2.py --deployment_name gpt-35-turbo-16k --max_tokens 500 --temperature 0.0 --top_p 0.0 --data $generation_out --seed_file $generation_topic --prompt_file $generation_2_prompt --out_file $generation_2_out --topic_file $generation_2_topic --verbose True"
   ]
  },
  {
   "cell_type": "code",
   "execution_count": null,
   "metadata": {},
   "outputs": [],
   "source": [
    "# Description: Example of how to run the generation script"
   ]
  },
  {
   "cell_type": "code",
   "execution_count": null,
   "metadata": {},
   "outputs": [],
   "source": []
  }
 ],
 "metadata": {
  "kernelspec": {
   "display_name": "aoai101",
   "language": "python",
   "name": "python3"
  },
  "language_info": {
   "codemirror_mode": {
    "name": "ipython",
    "version": 3
   },
   "file_extension": ".py",
   "mimetype": "text/x-python",
   "name": "python",
   "nbconvert_exporter": "python",
   "pygments_lexer": "ipython3",
   "version": "3.12.3"
  }
 },
 "nbformat": 4,
 "nbformat_minor": 2
}
